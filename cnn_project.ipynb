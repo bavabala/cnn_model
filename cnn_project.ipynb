{
 "cells": [
  {
   "cell_type": "markdown",
   "metadata": {},
   "source": [
    "# import necessary packages"
   ]
  },
  {
   "cell_type": "code",
   "execution_count": 16,
   "metadata": {},
   "outputs": [],
   "source": [
    "import numpy as np\n",
    "import keras\n",
    "from keras.datasets import mnist\n",
    "from keras.models import Sequential\n",
    "from keras.layers import Dense, Dropout, Flatten, Conv2D, MaxPooling2D\n",
    "from keras import backend as K\n",
    "from keras.preprocessing import image\n",
    "from keras.applications.mobilenet import MobileNet\n",
    "from keras.applications.vgg16 import preprocess_input, decode_predictions\n",
    "from keras.models import Model\n",
    "import timeit\n",
    "\n",
    "import warnings\n",
    "warnings.filterwarnings('ignore')"
   ]
  },
  {
   "cell_type": "markdown",
   "metadata": {},
   "source": [
    "# Preparing Dataset"
   ]
  },
  {
   "cell_type": "code",
   "execution_count": 17,
   "metadata": {},
   "outputs": [
    {
     "name": "stdout",
     "output_type": "stream",
     "text": [
      "x_train shape: (60000, 28, 28, 1)\n",
      "60000 train samples\n",
      "10000 test samples\n"
     ]
    }
   ],
   "source": [
    "batch_size = 128\n",
    "num_classes = 10\n",
    "epochs = 1\n",
    "\n",
    "# input image dimensions\n",
    "img_rows, img_cols = 28, 28\n",
    "\n",
    "# the data, shuffled and split between train and test sets\n",
    "(x_train, y_train), (x_test, y_test) = mnist.load_data()\n",
    "\n",
    "if K.image_data_format() == 'channels_first':\n",
    "    x_train = x_train.reshape(x_train.shape[0], 1, img_rows, img_cols)\n",
    "    x_test = x_test.reshape(x_test.shape[0], 1, img_rows, img_cols)\n",
    "    input_shape = (1, img_rows, img_cols)\n",
    "else:\n",
    "    x_train = x_train.reshape(x_train.shape[0], img_rows, img_cols, 1)\n",
    "    x_test = x_test.reshape(x_test.shape[0], img_rows, img_cols, 1)\n",
    "    input_shape = (img_rows, img_cols, 1)\n",
    "\n",
    "x_train = x_train.astype('float32')\n",
    "x_test = x_test.astype('float32')\n",
    "x_train /= 255\n",
    "x_test /= 255\n",
    "print('x_train shape:', x_train.shape)\n",
    "print(x_train.shape[0], 'train samples')\n",
    "print(x_test.shape[0], 'test samples')\n",
    "\n",
    "# convert class vectors to binary class matrices\n",
    "y_train = keras.utils.to_categorical(y_train, num_classes)\n",
    "y_test = keras.utils.to_categorical(y_test, num_classes)\n",
    "x_train shape: (60000, 28, 28, 1)"
   ]
  },
  {
   "cell_type": "markdown",
   "metadata": {},
   "source": [
    "# Building a Model"
   ]
  },
  {
   "cell_type": "code",
   "execution_count": 18,
   "metadata": {},
   "outputs": [
    {
     "name": "stdout",
     "output_type": "stream",
     "text": [
      "Model: \"sequential_2\"\n",
      "_________________________________________________________________\n",
      "Layer (type)                 Output Shape              Param #   \n",
      "=================================================================\n",
      "conv2d_3 (Conv2D)            (None, 26, 26, 8)         80        \n",
      "_________________________________________________________________\n",
      "max_pooling2d_3 (MaxPooling2 (None, 13, 13, 8)         0         \n",
      "_________________________________________________________________\n",
      "conv2d_4 (Conv2D)            (None, 11, 11, 16)        1168      \n",
      "_________________________________________________________________\n",
      "max_pooling2d_4 (MaxPooling2 (None, 5, 5, 16)          0         \n",
      "_________________________________________________________________\n",
      "dropout_3 (Dropout)          (None, 5, 5, 16)          0         \n",
      "_________________________________________________________________\n",
      "flatten_2 (Flatten)          (None, 400)               0         \n",
      "_________________________________________________________________\n",
      "dense_3 (Dense)              (None, 32)                12832     \n",
      "_________________________________________________________________\n",
      "dropout_4 (Dropout)          (None, 32)                0         \n",
      "_________________________________________________________________\n",
      "dense_4 (Dense)              (None, 10)                330       \n",
      "=================================================================\n",
      "Total params: 14,410\n",
      "Trainable params: 14,410\n",
      "Non-trainable params: 0\n",
      "_________________________________________________________________\n"
     ]
    }
   ],
   "source": [
    "model = Sequential()\n",
    "model.add(Conv2D(8, kernel_size=(3, 3), activation='relu', input_shape=input_shape))\n",
    "model.add(MaxPooling2D(pool_size=(2, 2)))\n",
    "model.add(Conv2D(16, (3, 3), activation='relu'))\n",
    "model.add(MaxPooling2D(pool_size=(2, 2)))\n",
    "model.add(Dropout(0.25))\n",
    "model.add(Flatten())\n",
    "model.add(Dense(32, activation='relu'))\n",
    "model.add(Dropout(0.5))\n",
    "model.add(Dense(num_classes, activation='softmax'))\n",
    "model.summary()"
   ]
  },
  {
   "cell_type": "markdown",
   "metadata": {},
   "source": [
    "# Model Training"
   ]
  },
  {
   "cell_type": "code",
   "execution_count": 19,
   "metadata": {},
   "outputs": [
    {
     "name": "stdout",
     "output_type": "stream",
     "text": [
      "Train on 60000 samples, validate on 10000 samples\n",
      "Epoch 1/1\n",
      "60000/60000 [==============================] - 11s 181us/step - loss: 0.7059 - accuracy: 0.7675 - val_loss: 0.1336 - val_accuracy: 0.9611\n"
     ]
    },
    {
     "data": {
      "text/plain": [
       "<keras.callbacks.callbacks.History at 0x1f85dafe788>"
      ]
     },
     "execution_count": 19,
     "metadata": {},
     "output_type": "execute_result"
    }
   ],
   "source": [
    "model.compile(loss=keras.losses.categorical_crossentropy,\n",
    "              optimizer=keras.optimizers.Adadelta(),\n",
    "              metrics=['accuracy'])\n",
    "\n",
    "model.fit(x_train, y_train,\n",
    "          batch_size=batch_size,\n",
    "          epochs=epochs,\n",
    "          verbose=1,\n",
    "          validation_data=(x_test, y_test))"
   ]
  },
  {
   "cell_type": "markdown",
   "metadata": {},
   "source": [
    "# Testing"
   ]
  },
  {
   "cell_type": "code",
   "execution_count": 20,
   "metadata": {},
   "outputs": [
    {
     "name": "stdout",
     "output_type": "stream",
     "text": [
      "Test loss: 0.1335672798320651\n",
      "Test accuracy: 0.9610999822616577\n"
     ]
    }
   ],
   "source": [
    "score = model.evaluate(x_test, y_test, verbose=0)\n",
    "print('Test loss:', score[0])\n",
    "print('Test accuracy:', score[1])"
   ]
  },
  {
   "cell_type": "markdown",
   "metadata": {},
   "source": [
    "# Prediction"
   ]
  },
  {
   "cell_type": "code",
   "execution_count": 67,
   "metadata": {},
   "outputs": [
    {
     "data": {
      "image/png": "[encoded data removed]",
      "text/plain": [
       "<Figure size 432x288 with 1 Axes>"
      ]
     },
     "metadata": {
      "needs_background": "light"
     },
     "output_type": "display_data"
    }
   ],
   "source": [
    "import pylab as plt\n",
    "\n",
    "plt.imshow(x_test[122].reshape(28,28),cmap='gray')\n",
    "plt.show()"
   ]
  },
  {
   "cell_type": "code",
   "execution_count": 22,
   "metadata": {},
   "outputs": [
    {
     "name": "stdout",
     "output_type": "stream",
     "text": [
      "Prediction Score:\n",
      " [2.3088085e-06 1.2930010e-05 2.9573357e-03 1.3495170e-03 6.8180725e-07\n",
      " 3.4801344e-06 9.3455569e-08 9.9518210e-01 1.7291766e-04 3.1850621e-04]\n",
      "\n",
      "Thresholded Score:\n",
      " [0 0 0 0 0 0 0 1 0 0]\n",
      "\n",
      "Predicted Digit:\n",
      " 7\n"
     ]
    }
   ],
   "source": [
    "import numpy as np\n",
    "prediction = model.predict(x_test[122:123])\n",
    "print('Prediction Score:\\n',prediction[0])\n",
    "thresholded = (prediction>0.5)*1\n",
    "print('\\nThresholded Score:\\n',thresholded[0])\n",
    "print('\\nPredicted Digit:\\n',np.where(thresholded == 1)[1][0])"
   ]
  },
  {
   "cell_type": "markdown",
   "metadata": {},
   "source": [
    "# Application of convolution neural network"
   ]
  },
  {
   "cell_type": "markdown",
   "metadata": {},
   "source": [
    "# Mobile Net Models"
   ]
  },
  {
   "cell_type": "code",
   "execution_count": 23,
   "metadata": {},
   "outputs": [
    {
     "name": "stdout",
     "output_type": "stream",
     "text": [
      "Model: \"mobilenet_0.25_224\"\n",
      "_________________________________________________________________\n",
      "Layer (type)                 Output Shape              Param #   \n",
      "=================================================================\n",
      "input_2 (InputLayer)         (None, 224, 224, 3)       0         \n",
      "_________________________________________________________________\n",
      "conv1_pad (ZeroPadding2D)    (None, 225, 225, 3)       0         \n",
      "_________________________________________________________________\n",
      "conv1 (Conv2D)               (None, 112, 112, 8)       216       \n",
      "_________________________________________________________________\n",
      "conv1_bn (BatchNormalization (None, 112, 112, 8)       32        \n",
      "_________________________________________________________________\n",
      "conv1_relu (ReLU)            (None, 112, 112, 8)       0         \n",
      "_________________________________________________________________\n",
      "conv_dw_1 (DepthwiseConv2D)  (None, 112, 112, 8)       72        \n",
      "_________________________________________________________________\n",
      "conv_dw_1_bn (BatchNormaliza (None, 112, 112, 8)       32        \n",
      "_________________________________________________________________\n",
      "conv_dw_1_relu (ReLU)        (None, 112, 112, 8)       0         \n",
      "_________________________________________________________________\n",
      "conv_pw_1 (Conv2D)           (None, 112, 112, 16)      128       \n",
      "_________________________________________________________________\n",
      "conv_pw_1_bn (BatchNormaliza (None, 112, 112, 16)      64        \n",
      "_________________________________________________________________\n",
      "conv_pw_1_relu (ReLU)        (None, 112, 112, 16)      0         \n",
      "_________________________________________________________________\n",
      "conv_pad_2 (ZeroPadding2D)   (None, 113, 113, 16)      0         \n",
      "_________________________________________________________________\n",
      "conv_dw_2 (DepthwiseConv2D)  (None, 56, 56, 16)        144       \n",
      "_________________________________________________________________\n",
      "conv_dw_2_bn (BatchNormaliza (None, 56, 56, 16)        64        \n",
      "_________________________________________________________________\n",
      "conv_dw_2_relu (ReLU)        (None, 56, 56, 16)        0         \n",
      "_________________________________________________________________\n",
      "conv_pw_2 (Conv2D)           (None, 56, 56, 32)        512       \n",
      "_________________________________________________________________\n",
      "conv_pw_2_bn (BatchNormaliza (None, 56, 56, 32)        128       \n",
      "_________________________________________________________________\n",
      "conv_pw_2_relu (ReLU)        (None, 56, 56, 32)        0         \n",
      "_________________________________________________________________\n",
      "conv_dw_3 (DepthwiseConv2D)  (None, 56, 56, 32)        288       \n",
      "_________________________________________________________________\n",
      "conv_dw_3_bn (BatchNormaliza (None, 56, 56, 32)        128       \n",
      "_________________________________________________________________\n",
      "conv_dw_3_relu (ReLU)        (None, 56, 56, 32)        0         \n",
      "_________________________________________________________________\n",
      "conv_pw_3 (Conv2D)           (None, 56, 56, 32)        1024      \n",
      "_________________________________________________________________\n",
      "conv_pw_3_bn (BatchNormaliza (None, 56, 56, 32)        128       \n",
      "_________________________________________________________________\n",
      "conv_pw_3_relu (ReLU)        (None, 56, 56, 32)        0         \n",
      "_________________________________________________________________\n",
      "conv_pad_4 (ZeroPadding2D)   (None, 57, 57, 32)        0         \n",
      "_________________________________________________________________\n",
      "conv_dw_4 (DepthwiseConv2D)  (None, 28, 28, 32)        288       \n",
      "_________________________________________________________________\n",
      "conv_dw_4_bn (BatchNormaliza (None, 28, 28, 32)        128       \n",
      "_________________________________________________________________\n",
      "conv_dw_4_relu (ReLU)        (None, 28, 28, 32)        0         \n",
      "_________________________________________________________________\n",
      "conv_pw_4 (Conv2D)           (None, 28, 28, 64)        2048      \n",
      "_________________________________________________________________\n",
      "conv_pw_4_bn (BatchNormaliza (None, 28, 28, 64)        256       \n",
      "_________________________________________________________________\n",
      "conv_pw_4_relu (ReLU)        (None, 28, 28, 64)        0         \n",
      "_________________________________________________________________\n",
      "conv_dw_5 (DepthwiseConv2D)  (None, 28, 28, 64)        576       \n",
      "_________________________________________________________________\n",
      "conv_dw_5_bn (BatchNormaliza (None, 28, 28, 64)        256       \n",
      "_________________________________________________________________\n",
      "conv_dw_5_relu (ReLU)        (None, 28, 28, 64)        0         \n",
      "_________________________________________________________________\n",
      "conv_pw_5 (Conv2D)           (None, 28, 28, 64)        4096      \n",
      "_________________________________________________________________\n",
      "conv_pw_5_bn (BatchNormaliza (None, 28, 28, 64)        256       \n",
      "_________________________________________________________________\n",
      "conv_pw_5_relu (ReLU)        (None, 28, 28, 64)        0         \n",
      "_________________________________________________________________\n",
      "conv_pad_6 (ZeroPadding2D)   (None, 29, 29, 64)        0         \n",
      "_________________________________________________________________\n",
      "conv_dw_6 (DepthwiseConv2D)  (None, 14, 14, 64)        576       \n",
      "_________________________________________________________________\n",
      "conv_dw_6_bn (BatchNormaliza (None, 14, 14, 64)        256       \n",
      "_________________________________________________________________\n",
      "conv_dw_6_relu (ReLU)        (None, 14, 14, 64)        0         \n",
      "_________________________________________________________________\n",
      "conv_pw_6 (Conv2D)           (None, 14, 14, 128)       8192      \n",
      "_________________________________________________________________\n",
      "conv_pw_6_bn (BatchNormaliza (None, 14, 14, 128)       512       \n",
      "_________________________________________________________________\n",
      "conv_pw_6_relu (ReLU)        (None, 14, 14, 128)       0         \n",
      "_________________________________________________________________\n",
      "conv_dw_7 (DepthwiseConv2D)  (None, 14, 14, 128)       1152      \n",
      "_________________________________________________________________\n",
      "conv_dw_7_bn (BatchNormaliza (None, 14, 14, 128)       512       \n",
      "_________________________________________________________________\n",
      "conv_dw_7_relu (ReLU)        (None, 14, 14, 128)       0         \n",
      "_________________________________________________________________\n",
      "conv_pw_7 (Conv2D)           (None, 14, 14, 128)       16384     \n",
      "_________________________________________________________________\n",
      "conv_pw_7_bn (BatchNormaliza (None, 14, 14, 128)       512       \n",
      "_________________________________________________________________\n",
      "conv_pw_7_relu (ReLU)        (None, 14, 14, 128)       0         \n",
      "_________________________________________________________________\n",
      "conv_dw_8 (DepthwiseConv2D)  (None, 14, 14, 128)       1152      \n",
      "_________________________________________________________________\n",
      "conv_dw_8_bn (BatchNormaliza (None, 14, 14, 128)       512       \n",
      "_________________________________________________________________\n",
      "conv_dw_8_relu (ReLU)        (None, 14, 14, 128)       0         \n",
      "_________________________________________________________________\n",
      "conv_pw_8 (Conv2D)           (None, 14, 14, 128)       16384     \n",
      "_________________________________________________________________\n",
      "conv_pw_8_bn (BatchNormaliza (None, 14, 14, 128)       512       \n",
      "_________________________________________________________________\n",
      "conv_pw_8_relu (ReLU)        (None, 14, 14, 128)       0         \n",
      "_________________________________________________________________\n",
      "conv_dw_9 (DepthwiseConv2D)  (None, 14, 14, 128)       1152      \n",
      "_________________________________________________________________\n",
      "conv_dw_9_bn (BatchNormaliza (None, 14, 14, 128)       512       \n",
      "_________________________________________________________________\n",
      "conv_dw_9_relu (ReLU)        (None, 14, 14, 128)       0         \n",
      "_________________________________________________________________\n",
      "conv_pw_9 (Conv2D)           (None, 14, 14, 128)       16384     \n",
      "_________________________________________________________________\n",
      "conv_pw_9_bn (BatchNormaliza (None, 14, 14, 128)       512       \n",
      "_________________________________________________________________\n",
      "conv_pw_9_relu (ReLU)        (None, 14, 14, 128)       0         \n",
      "_________________________________________________________________\n",
      "conv_dw_10 (DepthwiseConv2D) (None, 14, 14, 128)       1152      \n",
      "_________________________________________________________________\n",
      "conv_dw_10_bn (BatchNormaliz (None, 14, 14, 128)       512       \n",
      "_________________________________________________________________\n",
      "conv_dw_10_relu (ReLU)       (None, 14, 14, 128)       0         \n",
      "_________________________________________________________________\n",
      "conv_pw_10 (Conv2D)          (None, 14, 14, 128)       16384     \n",
      "_________________________________________________________________\n",
      "conv_pw_10_bn (BatchNormaliz (None, 14, 14, 128)       512       \n",
      "_________________________________________________________________\n",
      "conv_pw_10_relu (ReLU)       (None, 14, 14, 128)       0         \n",
      "_________________________________________________________________\n",
      "conv_dw_11 (DepthwiseConv2D) (None, 14, 14, 128)       1152      \n",
      "_________________________________________________________________\n",
      "conv_dw_11_bn (BatchNormaliz (None, 14, 14, 128)       512       \n",
      "_________________________________________________________________\n",
      "conv_dw_11_relu (ReLU)       (None, 14, 14, 128)       0         \n",
      "_________________________________________________________________\n",
      "conv_pw_11 (Conv2D)          (None, 14, 14, 128)       16384     \n",
      "_________________________________________________________________\n",
      "conv_pw_11_bn (BatchNormaliz (None, 14, 14, 128)       512       \n",
      "_________________________________________________________________\n",
      "conv_pw_11_relu (ReLU)       (None, 14, 14, 128)       0         \n",
      "_________________________________________________________________\n",
      "conv_pad_12 (ZeroPadding2D)  (None, 15, 15, 128)       0         \n",
      "_________________________________________________________________\n",
      "conv_dw_12 (DepthwiseConv2D) (None, 7, 7, 128)         1152      \n",
      "_________________________________________________________________\n",
      "conv_dw_12_bn (BatchNormaliz (None, 7, 7, 128)         512       \n",
      "_________________________________________________________________\n",
      "conv_dw_12_relu (ReLU)       (None, 7, 7, 128)         0         \n",
      "_________________________________________________________________\n",
      "conv_pw_12 (Conv2D)          (None, 7, 7, 256)         32768     \n",
      "_________________________________________________________________\n",
      "conv_pw_12_bn (BatchNormaliz (None, 7, 7, 256)         1024      \n",
      "_________________________________________________________________\n",
      "conv_pw_12_relu (ReLU)       (None, 7, 7, 256)         0         \n",
      "_________________________________________________________________\n",
      "conv_dw_13 (DepthwiseConv2D) (None, 7, 7, 256)         2304      \n",
      "_________________________________________________________________\n",
      "conv_dw_13_bn (BatchNormaliz (None, 7, 7, 256)         1024      \n",
      "_________________________________________________________________\n",
      "conv_dw_13_relu (ReLU)       (None, 7, 7, 256)         0         \n",
      "_________________________________________________________________\n",
      "conv_pw_13 (Conv2D)          (None, 7, 7, 256)         65536     \n",
      "_________________________________________________________________\n",
      "conv_pw_13_bn (BatchNormaliz (None, 7, 7, 256)         1024      \n",
      "_________________________________________________________________\n",
      "conv_pw_13_relu (ReLU)       (None, 7, 7, 256)         0         \n",
      "_________________________________________________________________\n",
      "global_average_pooling2d_2 ( (None, 256)               0         \n",
      "_________________________________________________________________\n",
      "reshape_1 (Reshape)          (None, 1, 1, 256)         0         \n",
      "_________________________________________________________________\n",
      "dropout (Dropout)            (None, 1, 1, 256)         0         \n",
      "_________________________________________________________________\n",
      "conv_preds (Conv2D)          (None, 1, 1, 1000)        257000    \n",
      "_________________________________________________________________\n",
      "reshape_2 (Reshape)          (None, 1000)              0         \n",
      "_________________________________________________________________\n",
      "act_softmax (Activation)     (None, 1000)              0         \n",
      "=================================================================\n",
      "Total params: 475,544\n",
      "Trainable params: 470,072\n",
      "Non-trainable params: 5,472\n",
      "_________________________________________________________________\n"
     ]
    }
   ],
   "source": [
    "model = MobileNet(input_shape=None, alpha=0.25, depth_multiplier=1, dropout=1e-3, \n",
    "                                 include_top=True, weights='imagenet', input_tensor=None, pooling=None, classes=1000)\n",
    "\n",
    "model.summary()\n"
   ]
  },
  {
   "cell_type": "markdown",
   "metadata": {},
   "source": [
    "# classify images"
   ]
  },
  {
   "cell_type": "code",
   "execution_count": 24,
   "metadata": {},
   "outputs": [
    {
     "name": "stdout",
     "output_type": "stream",
     "text": [
      "Predicted:\n",
      " [[('n02342885', 'hamster', 0.52219427), ('n03325584', 'feather_boa', 0.10394173), ('n02112018', 'Pomeranian', 0.028400023), ('n01910747', 'jellyfish', 0.028345529), ('n02606052', 'rock_beauty', 0.021743119)]]\n"
     ]
    }
   ],
   "source": [
    "img_path = 'cat.jpg'\n",
    "img = image.load_img(img_path, target_size=(224, 224))\n",
    "x = image.img_to_array(img)\n",
    "x = np.expand_dims(x, axis=0)\n",
    "x = preprocess_input(x)\n",
    "\n",
    "preds = model.predict(x)\n",
    "print('Predicted:\\n', decode_predictions(preds))"
   ]
  },
  {
   "cell_type": "markdown",
   "metadata": {},
   "source": [
    "# Extract CNN features"
   ]
  },
  {
   "cell_type": "code",
   "execution_count": 25,
   "metadata": {},
   "outputs": [
    {
     "name": "stdout",
     "output_type": "stream",
     "text": [
      "\n",
      "Feature Shape:\n",
      " (1, 1000)\n",
      "\n",
      "Features:\n",
      " [[1.25766667e-06 6.49451884e-03 3.00399861e-05 1.40238180e-05\n",
      "  1.44904880e-06 5.03629999e-05 3.48363096e-06 2.26837961e-04\n",
      "  5.10566279e-05 9.07104277e-06 1.00427496e-05 5.76794986e-03\n",
      "  1.12720227e-05 5.88596231e-06 6.59534533e-04 4.08759697e-05\n",
      "  3.15586803e-05 3.05708643e-04 3.19733117e-05 1.19434180e-05\n",
      "  2.45302459e-07 3.41038394e-04 1.11623749e-03 2.22594084e-04\n",
      "  1.25448030e-04 2.25177637e-08 1.09144457e-06 1.86353327e-06\n",
      "  1.86754249e-07 4.89950355e-04 9.96548906e-08 8.28619363e-07\n",
      "  7.81744660e-08 2.19596518e-06 1.78575220e-07 2.63254307e-08\n",
      "  1.26270891e-07 1.30631168e-08 2.86906925e-05 1.75845580e-05\n",
      "  2.54679094e-06 1.36203781e-07 6.82477594e-06 2.25851581e-05\n",
      "  5.44051630e-08 3.07081223e-08 2.71508779e-05 3.92390175e-05\n",
      "  3.03852872e-08 1.71795719e-07 2.14605143e-06 3.71442547e-06\n",
      "  7.61789032e-09 2.44797434e-07 3.66193724e-08 7.10959284e-07\n",
      "  1.19061504e-07 2.89689561e-09 3.89744457e-07 1.87619321e-07\n",
      "  1.55016551e-08 1.03743147e-09 9.81659110e-09 9.99797408e-07\n",
      "  9.06249568e-07 9.57774319e-06 2.75984092e-07 4.57713796e-08\n",
      "  2.57822013e-08 1.69492260e-08 2.23097729e-07 7.00744351e-07\n",
      "  6.67043832e-06 3.57621684e-05 7.44993667e-05 1.91625008e-06\n",
      "  4.33252040e-07 3.23955533e-07 4.69926126e-05 6.83822282e-06\n",
      "  1.34678360e-03 3.12079101e-05 2.07361300e-04 3.78293735e-05\n",
      "  8.72918317e-05 3.38301470e-05 3.79373960e-05 1.22231222e-06\n",
      "  1.17223349e-03 3.92714050e-03 1.32811570e-03 2.71003810e-05\n",
      "  1.65817146e-05 8.99709721e-06 2.29089591e-03 3.90493233e-06\n",
      "  3.65367887e-04 4.98798681e-06 5.55899305e-07 1.59896063e-05\n",
      "  3.27165094e-06 1.18916530e-08 6.98322964e-08 4.19764490e-07\n",
      "  1.89551713e-06 1.07442856e-05 1.08926088e-06 2.83455290e-02\n",
      "  6.14156108e-03 1.78800095e-04 4.76006971e-04 3.39243093e-06\n",
      "  9.92894871e-04 3.31666088e-05 1.44383812e-05 1.80425576e-03\n",
      "  2.42703823e-06 4.87148121e-04 1.10006411e-07 3.90682047e-08\n",
      "  7.30356309e-09 5.20992626e-06 6.41077918e-07 7.62201068e-07\n",
      "  2.28239202e-07 5.70500060e-06 4.85928249e-05 2.82173460e-05\n",
      "  1.51897120e-06 1.40166120e-03 1.30792861e-04 1.37540474e-06\n",
      "  4.41749544e-05 6.90626109e-07 1.01434671e-04 4.54997862e-05\n",
      "  8.19983252e-05 4.01508515e-07 5.51883977e-06 2.55479199e-06\n",
      "  6.84862300e-07 8.99922838e-07 4.04905421e-07 5.34971832e-07\n",
      "  6.87235952e-05 1.93178789e-06 3.44069190e-06 4.05669380e-06\n",
      "  5.12838888e-05 8.41387737e-06 1.47413612e-05 1.33880926e-03\n",
      "  8.88019713e-05 7.38038449e-03 5.81489003e-05 3.94942726e-05\n",
      "  5.87681416e-06 3.73541479e-05 2.54752813e-05 3.60802090e-07\n",
      "  1.70709893e-06 7.35236725e-08 6.60615285e-07 2.67156803e-08\n",
      "  1.05590644e-07 7.27244327e-08 2.89016384e-08 1.64023604e-08\n",
      "  4.70320231e-07 3.64270704e-06 3.03399725e-06 5.92000106e-07\n",
      "  2.68095040e-08 2.81839812e-06 4.89534432e-05 9.17349007e-06\n",
      "  5.06827803e-07 1.37844012e-07 1.71543843e-06 6.16010766e-07\n",
      "  7.04843501e-07 2.88512038e-05 4.96556822e-05 1.40778329e-05\n",
      "  3.52435709e-05 1.45763124e-03 3.27154365e-03 7.17534544e-03\n",
      "  7.04192149e-04 1.29762595e-03 7.32785047e-05 7.26604121e-05\n",
      "  4.17758361e-04 4.66627709e-04 3.17613216e-04 2.10420476e-05\n",
      "  1.10488538e-04 4.49369645e-06 2.63687652e-05 4.65027988e-04\n",
      "  3.31919873e-05 1.18235788e-04 6.71165762e-05 1.07289124e-02\n",
      "  1.14822426e-04 1.41143719e-05 3.49856805e-07 1.59046147e-04\n",
      "  3.41886043e-05 7.54068765e-07 1.74392216e-08 1.79266635e-07\n",
      "  3.59584169e-06 6.92849312e-07 3.96849191e-06 6.56053817e-06\n",
      "  1.61231164e-05 2.31515628e-06 6.25279711e-07 5.02149014e-05\n",
      "  2.25565714e-07 3.76755816e-06 1.81522031e-04 1.43820164e-03\n",
      "  1.50783628e-04 4.14307306e-06 8.75474052e-06 3.20274057e-06\n",
      "  4.02685437e-05 1.86874342e-04 2.72010784e-05 8.54052341e-05\n",
      "  2.58450891e-04 6.07719739e-05 1.06610435e-06 1.35511791e-05\n",
      "  9.38418339e-08 9.65307390e-06 2.99765929e-07 6.05856076e-06\n",
      "  1.04110427e-06 3.55543534e-07 1.35866216e-07 4.19257375e-08\n",
      "  6.67623635e-06 3.70525163e-06 7.63077850e-08 8.57888949e-07\n",
      "  8.11141916e-04 8.13958250e-05 2.91228615e-04 3.78028085e-06\n",
      "  3.05907422e-04 1.61295361e-06 3.17942176e-05 2.97976430e-06\n",
      "  1.73921126e-05 5.07452205e-05 7.07183965e-03 2.84000225e-02\n",
      "  3.50328279e-03 9.61309823e-04 1.43936040e-05 2.93225137e-04\n",
      "  4.76609785e-06 4.42463410e-04 1.44488993e-04 1.74178058e-05\n",
      "  5.30519173e-07 4.69879997e-05 1.89625670e-03 3.65450142e-05\n",
      "  1.30656535e-05 7.77851528e-06 1.07667793e-05 1.69499458e-07\n",
      "  1.33907042e-06 5.52960082e-05 1.98667149e-05 1.26232195e-03\n",
      "  3.10298456e-05 2.61120003e-04 3.03127890e-04 1.96048468e-02\n",
      "  1.09525993e-02 9.43091291e-05 1.56559090e-05 6.04774614e-05\n",
      "  1.04860001e-05 4.15323984e-06 4.23470482e-07 1.92646917e-06\n",
      "  1.57462600e-05 1.19911929e-05 3.03191473e-06 2.76978813e-06\n",
      "  2.80216103e-03 1.65746553e-06 3.28407223e-05 1.18901808e-04\n",
      "  1.98539965e-06 1.08533204e-04 1.21362382e-06 6.95941571e-06\n",
      "  2.64854789e-05 1.53465578e-08 4.85500004e-06 3.76318440e-06\n",
      "  2.59290264e-05 1.93418365e-03 2.29601384e-04 4.06483787e-06\n",
      "  3.61347020e-06 7.59485204e-07 4.80691097e-06 3.93106529e-06\n",
      "  1.42823140e-07 1.89957900e-05 1.61064563e-05 5.74320211e-06\n",
      "  9.00958094e-06 2.31873142e-04 4.69912702e-05 2.65822833e-04\n",
      "  1.78826624e-03 2.40241503e-03 1.44572652e-04 6.49067370e-05\n",
      "  5.24911375e-05 5.32720114e-05 1.59505782e-06 1.44464248e-05\n",
      "  8.38301028e-04 5.22194266e-01 1.04006076e-05 9.37277626e-04\n",
      "  1.56115004e-06 1.33997801e-05 1.37800851e-03 3.51027836e-07\n",
      "  5.02010380e-06 1.28508527e-05 6.85410498e-07 4.54445326e-09\n",
      "  4.95336565e-07 4.67703160e-07 1.47912749e-08 3.39970848e-06\n",
      "  1.38764324e-06 5.25956125e-07 1.07136806e-07 2.48577003e-09\n",
      "  1.09037870e-07 6.48271410e-08 3.96173618e-07 1.77921283e-05\n",
      "  1.21411483e-03 2.12664352e-04 1.44758704e-03 6.50299992e-03\n",
      "  3.84311788e-05 3.22238666e-05 1.75050644e-07 8.51063859e-08\n",
      "  3.56197711e-06 7.39186544e-06 9.72328849e-07 5.33643970e-07\n",
      "  9.37519872e-05 5.21023212e-05 1.59746996e-05 1.65563470e-04\n",
      "  2.21618029e-05 7.22103650e-05 1.24068446e-02 4.45289843e-05\n",
      "  2.02013289e-05 1.51529699e-03 1.02839922e-03 3.26938789e-05\n",
      "  6.98023767e-04 6.08458577e-05 1.88058868e-04 4.87150901e-05\n",
      "  2.88517418e-04 1.60567041e-07 4.19721431e-08 2.60953471e-04\n",
      "  6.29255723e-04 8.37892458e-08 6.72590386e-06 6.62102195e-08\n",
      "  2.17431188e-02 2.31682183e-03 1.06694600e-07 1.92099918e-07\n",
      "  1.32391535e-04 1.14997115e-03 3.20360632e-05 1.81052360e-06\n",
      "  5.22586015e-06 2.97752877e-06 4.32163233e-06 6.02757837e-06\n",
      "  9.33818519e-05 2.32142083e-05 1.00197474e-06 3.79540397e-05\n",
      "  3.44092987e-05 8.91802716e-04 7.84260374e-06 1.92251682e-05\n",
      "  2.00760296e-05 1.27079431e-07 1.29086504e-06 5.17995795e-06\n",
      "  2.76383144e-05 4.75987978e-03 3.08582867e-06 3.08805575e-05\n",
      "  1.68988856e-06 6.48393495e-07 1.43793613e-07 2.96681264e-07\n",
      "  7.02245597e-05 8.10479978e-04 3.81947621e-06 2.20513422e-04\n",
      "  8.18165881e-06 4.97513356e-05 6.99052919e-07 2.98585746e-06\n",
      "  2.53022108e-07 9.44191532e-04 4.59050614e-04 5.81069071e-06\n",
      "  3.35684618e-08 2.95052817e-03 4.80059771e-06 1.22243410e-03\n",
      "  8.24100971e-06 3.25286283e-06 6.77104574e-04 5.20426838e-04\n",
      "  9.96933949e-08 1.14312621e-04 7.58862661e-05 3.36976314e-06\n",
      "  6.05540466e-04 2.19889713e-04 1.87597871e-05 5.85339421e-06\n",
      "  4.14490729e-04 2.28044257e-07 3.97412180e-07 3.02431854e-05\n",
      "  2.81085522e-06 2.20184011e-05 9.43215781e-08 2.64253936e-06\n",
      "  1.91234707e-04 4.06219897e-06 5.39138964e-05 6.24972090e-05\n",
      "  2.47772562e-07 1.07645144e-06 4.35225935e-08 2.61000139e-07\n",
      "  1.64117118e-05 6.90402567e-06 1.30970104e-04 1.75669757e-05\n",
      "  2.01217175e-04 6.36731102e-07 2.32241837e-06 8.62207798e-06\n",
      "  2.68758959e-05 2.21566651e-07 1.07184233e-05 3.42369094e-06\n",
      "  6.48673740e-05 1.95347930e-05 1.14964472e-07 2.50993122e-04\n",
      "  6.73215836e-05 9.21507308e-07 1.31689321e-05 4.75350316e-05\n",
      "  1.68984025e-06 1.18368924e-04 3.66260647e-05 1.69076395e-06\n",
      "  8.17301441e-07 7.13491431e-07 3.86448228e-05 3.20706199e-08\n",
      "  1.94221046e-02 1.66190707e-03 9.71064874e-05 9.96089148e-06\n",
      "  1.36457047e-07 2.29049929e-05 4.94906180e-06 1.41962528e-06\n",
      "  9.73851570e-07 2.46571221e-06 6.53003663e-05 2.89812692e-06\n",
      "  3.90727928e-06 4.43403223e-07 1.37342693e-04 2.66413252e-07\n",
      "  4.73192813e-07 4.99533428e-07 2.15374101e-07 4.50402586e-05\n",
      "  1.82093336e-05 2.74019898e-04 1.47360549e-06 3.01019122e-06\n",
      "  6.98958956e-07 2.22323564e-07 3.35391223e-06 7.54216458e-08\n",
      "  5.59917680e-06 4.66536022e-07 4.68098079e-07 9.40235550e-05\n",
      "  3.95420420e-06 1.21011562e-05 4.35643487e-05 1.42890030e-05\n",
      "  1.08579208e-07 2.83512009e-06 6.26809538e-08 2.84592176e-07\n",
      "  4.80540548e-05 1.65982739e-04 1.25206483e-04 6.32467209e-06\n",
      "  2.67019914e-05 1.51385684e-05 3.42023827e-06 3.90133437e-07\n",
      "  3.87539558e-07 2.27714791e-05 2.33016872e-05 7.05500497e-07\n",
      "  1.18166679e-06 2.04087191e-05 1.21335297e-08 3.17695594e-06\n",
      "  1.03941731e-01 9.93578283e-07 9.29292946e-05 7.56106674e-05\n",
      "  5.76289858e-06 6.23796089e-03 1.33958508e-06 3.85957810e-06\n",
      "  4.99980501e-07 4.21263564e-07 4.29625111e-03 3.13466671e-07\n",
      "  1.75053472e-07 6.77442642e-07 2.10934914e-08 1.15265232e-06\n",
      "  2.72614212e-04 6.20727133e-06 1.25469808e-06 1.12152827e-06\n",
      "  2.96638154e-06 6.52213501e-08 3.74308485e-07 3.72553295e-08\n",
      "  1.69319501e-05 6.97827345e-05 1.27475214e-04 2.76485548e-06\n",
      "  9.06757487e-06 3.35699065e-06 2.00049431e-06 3.43988631e-07\n",
      "  9.97934185e-05 5.98396073e-05 7.75187701e-08 3.21968798e-08\n",
      "  6.12993390e-05 2.88557712e-05 9.00010855e-06 1.15116381e-04\n",
      "  4.15293300e-07 3.85272688e-06 5.23315903e-05 4.96607972e-05\n",
      "  6.39744030e-07 1.39671855e-07 5.40751444e-06 1.26330997e-05\n",
      "  2.27750206e-05 1.94152963e-05 3.02868102e-06 1.44164346e-07\n",
      "  1.27706028e-06 1.16346666e-06 9.04701301e-05 2.12070227e-05\n",
      "  1.03442778e-06 4.69220367e-07 2.18020637e-06 2.79792846e-04\n",
      "  8.21487163e-08 4.63984952e-06 1.84302353e-05 3.45073604e-05\n",
      "  4.02861497e-06 1.96440254e-07 8.24240800e-08 5.97984239e-04\n",
      "  1.89043803e-05 1.44463479e-06 2.62664753e-06 6.12212204e-07\n",
      "  1.60066932e-07 1.30847518e-04 9.80627956e-05 4.10948502e-07\n",
      "  4.41407210e-05 2.52791415e-06 6.06132318e-08 2.85836886e-05\n",
      "  4.46141439e-06 1.75049663e-05 9.03405407e-07 5.03414640e-06\n",
      "  8.48768377e-06 4.27987516e-06 4.43247663e-05 2.77987692e-05\n",
      "  1.05371043e-07 1.44244739e-04 1.31203442e-05 1.56506328e-04\n",
      "  1.05196195e-04 3.84239247e-05 8.44995498e-07 1.40537807e-07\n",
      "  8.30699491e-07 8.79740281e-09 7.64676588e-05 5.33995205e-07\n",
      "  1.32544827e-07 1.43628604e-05 6.94035009e-07 9.51145410e-07\n",
      "  2.10858298e-06 1.85022026e-03 1.17869218e-04 4.55134750e-06\n",
      "  2.31938047e-05 4.78465516e-08 8.85294776e-06 9.44876047e-06\n",
      "  4.48894687e-04 4.51011419e-06 5.10553093e-07 2.43059141e-04\n",
      "  1.58272287e-05 4.81889288e-07 1.26518953e-05 3.99649844e-06\n",
      "  2.55017881e-06 8.17246564e-06 3.96121322e-06 9.17753653e-07\n",
      "  3.64070511e-05 3.80328652e-06 1.58787293e-06 6.56852935e-05\n",
      "  2.01468516e-04 1.77875552e-06 4.52296517e-05 4.68451788e-07\n",
      "  2.41021166e-06 1.32583909e-05 4.01227771e-06 1.26760913e-08\n",
      "  2.34746840e-04 2.49693749e-05 6.61753461e-07 4.25280377e-05\n",
      "  3.58994657e-05 4.01588419e-04 4.13210983e-05 3.01236810e-06\n",
      "  1.59060473e-05 2.57163538e-05 4.25099170e-05 1.22644217e-03\n",
      "  1.84197797e-05 1.52729743e-03 3.17769945e-07 2.11063816e-05\n",
      "  4.72373159e-07 1.86278521e-06 3.87064028e-06 2.02812245e-07\n",
      "  3.24716621e-06 2.58048694e-05 2.91454489e-05 3.67051580e-05\n",
      "  2.04962580e-05 8.17850676e-08 1.24684800e-06 2.24643145e-06\n",
      "  3.30661947e-04 1.98228449e-07 2.22809413e-05 9.44152816e-06\n",
      "  3.26853865e-06 1.42730889e-04 1.18687800e-04 2.04595923e-03\n",
      "  3.40132829e-05 2.42917213e-05 9.63099911e-09 1.72043292e-05\n",
      "  7.73901411e-05 8.87889655e-06 4.67549768e-07 2.92416971e-05\n",
      "  9.87180215e-07 7.30449028e-05 2.43116034e-07 2.49186211e-04\n",
      "  2.21656160e-06 3.88671797e-05 9.31416616e-06 6.91038835e-08\n",
      "  8.01681108e-06 9.20788750e-07 3.10485962e-06 3.58795802e-07\n",
      "  1.10973255e-03 7.73522515e-06 1.54270239e-07 5.10161299e-05\n",
      "  4.46329359e-05 2.50469806e-04 8.88191153e-06 1.06718311e-07\n",
      "  1.61974378e-06 1.62554916e-05 3.98373550e-06 6.14644978e-06\n",
      "  3.97949596e-04 1.00063403e-06 1.98586076e-05 9.43017130e-06\n",
      "  6.48302330e-06 2.69232623e-06 1.20211798e-05 1.24269206e-06\n",
      "  7.48241504e-08 2.02330170e-06 7.16031252e-07 1.50761116e-05\n",
      "  1.28269460e-06 4.49911895e-05 2.06918980e-08 9.17416742e-07\n",
      "  4.26348241e-04 2.13845233e-05 2.24912270e-07 2.52080034e-04\n",
      "  1.24304995e-06 2.06306098e-07 7.13607806e-05 4.76891182e-06\n",
      "  1.37018706e-05 6.08175469e-05 1.72510394e-03 7.38809513e-06\n",
      "  3.40108022e-06 3.04680616e-05 2.71660809e-07 1.04881510e-05\n",
      "  7.04205559e-06 3.57706227e-07 5.45101238e-06 1.44676369e-06\n",
      "  4.33925015e-06 6.07615129e-06 1.70312967e-04 1.26556552e-04\n",
      "  1.12896079e-04 4.30284053e-05 4.11052561e-08 2.40269560e-06\n",
      "  1.00116331e-05 2.27134406e-05 1.94572160e-04 5.46283882e-05\n",
      "  1.70400358e-06 3.82228927e-06 8.73556655e-06 3.83391489e-05\n",
      "  6.65668995e-05 2.77796767e-06 9.94680818e-07 4.81223833e-05\n",
      "  2.80596636e-04 1.93415121e-06 4.24641694e-05 5.42248599e-04\n",
      "  5.67113011e-06 2.83415496e-08 3.51600489e-03 4.76330332e-03\n",
      "  1.67960417e-04 2.83815257e-06 4.57214043e-07 9.27598251e-07\n",
      "  4.81869538e-05 4.34007097e-09 1.19766210e-05 1.04495621e-05\n",
      "  4.24309155e-06 4.93251309e-06 4.40351414e-07 2.92212758e-06\n",
      "  3.79152072e-04 7.45167381e-06 1.53590406e-07 2.63274183e-06\n",
      "  2.37054246e-06 7.34146533e-06 2.04319149e-05 5.23509334e-06\n",
      "  5.57407002e-05 5.07640289e-06 1.57859162e-04 1.94918161e-04\n",
      "  1.38834021e-05 3.46387969e-06 1.27072111e-04 1.87418959e-06\n",
      "  4.37206751e-07 1.84369412e-06 1.75909922e-02 4.22188430e-04\n",
      "  1.46996608e-04 6.11227193e-08 3.40590523e-05 3.27958078e-05\n",
      "  1.99599417e-05 1.65557067e-05 9.93341473e-07 1.74181039e-07\n",
      "  2.27742376e-07 1.56166316e-05 9.60589910e-04 2.15180580e-06\n",
      "  2.19539871e-07 5.46220363e-05 2.18515543e-05 1.49023181e-05\n",
      "  9.93426238e-06 2.42816782e-06 2.22744302e-06 8.05234522e-05\n",
      "  1.15630710e-05 5.62875982e-07 1.22002419e-07 7.61106094e-08\n",
      "  2.06242566e-05 1.03702497e-07 2.25508060e-07 3.17134400e-04\n",
      "  1.92851239e-05 1.28105569e-07 5.65094933e-06 7.99945963e-04\n",
      "  4.68592049e-07 3.25714864e-05 2.80606378e-06 3.66932568e-07\n",
      "  3.67629423e-06 3.43136276e-06 6.09580957e-06 1.42317191e-07\n",
      "  4.78272850e-05 1.72358123e-05 4.26723432e-07 2.37151799e-05\n",
      "  3.89076195e-06 5.55133226e-07 5.51761113e-05 3.26524560e-06\n",
      "  7.50624440e-06 3.73953469e-07 4.75475936e-05 2.89627886e-03\n",
      "  1.49372488e-03 1.39521901e-04 1.70676844e-06 1.94113795e-06\n",
      "  2.31097612e-04 1.04661933e-06 4.51942526e-07 7.05540297e-05\n",
      "  1.25338556e-05 7.72203566e-05 1.22883046e-06 6.87730278e-07\n",
      "  3.30611627e-04 4.52475142e-05 6.74487580e-07 1.06246771e-04\n",
      "  1.94908690e-03 5.99682389e-04 2.81676312e-05 1.44590717e-06\n",
      "  8.33371558e-08 1.60119987e-06 2.11890168e-08 3.14644637e-07\n",
      "  3.05063372e-06 5.83491055e-04 1.65217688e-08 9.27656129e-06\n",
      "  1.22880704e-06 9.70254277e-08 9.04268234e-07 1.22149240e-05\n",
      "  2.42088198e-08 7.01827812e-05 6.31897763e-07 3.50348478e-06\n",
      "  5.96417067e-06 3.59181968e-07 5.54849839e-06 5.44171271e-05\n",
      "  4.49386789e-06 2.00997192e-06 2.91842909e-04 4.16669136e-05\n",
      "  2.08584665e-04 7.60586991e-05 2.62066780e-04 6.79599470e-05\n",
      "  5.49464821e-05 2.84127109e-05 3.93039430e-04 1.18194526e-04\n",
      "  4.74320984e-07 1.66067512e-05 1.52131033e-05 8.17332264e-08\n",
      "  1.66103149e-07 1.22586030e-07 5.19603532e-07 7.38812247e-08\n",
      "  2.16931255e-07 1.50134323e-08 2.38769616e-07 8.52508180e-08\n",
      "  9.41024518e-06 2.59479257e-05 3.60597915e-06 1.51684755e-04\n",
      "  1.21590608e-06 9.76227049e-04 5.25640498e-04 6.29255432e-04\n",
      "  1.30958858e-06 4.95732775e-06 1.08501328e-04 1.22473509e-07\n",
      "  6.22283027e-04 1.36569861e-06 1.77082511e-05 3.53946234e-03\n",
      "  1.67904363e-04 6.63146260e-04 1.64453813e-05 1.79850496e-03\n",
      "  3.84002396e-06 7.86100223e-04 4.44808538e-05 1.53961300e-05\n",
      "  2.78681313e-04 4.59609284e-09 1.34891013e-06 1.16155638e-06\n",
      "  6.41633278e-07 5.93472897e-08 2.88339588e-03 1.51121924e-06]]\n"
     ]
    }
   ],
   "source": [
    "features = model.predict(x)\n",
    "print('\\nFeature Shape:\\n',features.shape)\n",
    "print('\\nFeatures:\\n',features)"
   ]
  },
  {
   "cell_type": "markdown",
   "metadata": {},
   "source": [
    "# Extract features from an arbitrary intermediate layer¶"
   ]
  },
  {
   "cell_type": "code",
   "execution_count": 26,
   "metadata": {},
   "outputs": [
    {
     "name": "stdout",
     "output_type": "stream",
     "text": [
      "Features of conv_dw_2_relu: (1, 56, 56, 16)\n"
     ]
    }
   ],
   "source": [
    "model_minimal = Model(input=model.input, output=model.get_layer('conv_dw_2_relu').output)\n",
    "\n",
    "conv_dw_2_relu_features = model_minimal.predict(x)\n",
    "print('Features of conv_dw_2_relu:',conv_dw_2_relu_features.shape)"
   ]
  },
  {
   "cell_type": "markdown",
   "metadata": {},
   "source": [
    "# Deep Convolution Layer Visualization"
   ]
  },
  {
   "cell_type": "code",
   "execution_count": 36,
   "metadata": {},
   "outputs": [],
   "source": [
    "import matplotlib as mp\n",
    "%matplotlib inline\n",
    "import matplotlib.pyplot as plt\n",
    "import tensorflow as tf\n",
    "import tensorflow.contrib.slim as slim\n",
    "from tensorflow.examples.tutorials.mnist import input_data\n",
    "import math\n",
    "import warnings\n",
    "warnings.filterwarnings('ignore')"
   ]
  },
  {
   "cell_type": "markdown",
   "metadata": {},
   "source": [
    "# Extract Data"
   ]
  },
  {
   "cell_type": "code",
   "execution_count": 37,
   "metadata": {},
   "outputs": [
    {
     "name": "stdout",
     "output_type": "stream",
     "text": [
      "Extracting MNIST_data/train-images-idx3-ubyte.gz\n",
      "Extracting MNIST_data/train-labels-idx1-ubyte.gz\n",
      "Extracting MNIST_data/t10k-images-idx3-ubyte.gz\n",
      "Extracting MNIST_data/t10k-labels-idx1-ubyte.gz\n"
     ]
    }
   ],
   "source": [
    "mnist = input_data.read_data_sets(\"MNIST_data/\", one_hot=True)"
   ]
  },
  {
   "cell_type": "markdown",
   "metadata": {},
   "source": [
    "# Model Building"
   ]
  },
  {
   "cell_type": "code",
   "execution_count": 48,
   "metadata": {},
   "outputs": [],
   "source": [
    "tf.reset_default_graph()\n",
    "\n",
    "x = tf.placeholder(tf.float32, [None, 784],name=\"x-in\")\n",
    "true_y = tf.placeholder(tf.float32, [None, 10],name=\"y-in\")\n",
    "keep_prob = tf.placeholder(\"float\")\n",
    "\n",
    "x_image = tf.reshape(x,[-1,28,28,1])\n",
    "hidden_1 = slim.conv2d(x_image,5,[5,5])\n",
    "pool_1 = slim.max_pool2d(hidden_1,[2,2])\n",
    "hidden_2 = slim.conv2d(pool_1,5,[5,5])\n",
    "pool_2 = slim.max_pool2d(hidden_2,[2,2])\n",
    "hidden_3 = slim.conv2d(pool_2,20,[5,5])\n",
    "hidden_3 = slim.dropout(hidden_3,keep_prob)\n",
    "out_y = slim.fully_connected(slim.flatten(hidden_3),10,activation_fn=tf.nn.softmax)\n",
    "\n",
    "cross_entropy = -tf.reduce_sum(true_y*tf.log(out_y))\n",
    "correct_prediction = tf.equal(tf.argmax(out_y,1), tf.argmax(true_y,1))\n",
    "accuracy = tf.reduce_mean(tf.cast(correct_prediction, \"float\"))\n",
    "train_step = tf.train.AdamOptimizer(1e-4).minimize(cross_entropy)"
   ]
  },
  {
   "cell_type": "markdown",
   "metadata": {},
   "source": [
    "# Training"
   ]
  },
  {
   "cell_type": "code",
   "execution_count": 49,
   "metadata": {},
   "outputs": [
    {
     "name": "stdout",
     "output_type": "stream",
     "text": [
      "step 100, training accuracy 0.16\n",
      "step 200, training accuracy 0.76\n",
      "step 300, training accuracy 0.9\n",
      "step 400, training accuracy 0.82\n",
      "step 500, training accuracy 0.84\n",
      "step 600, training accuracy 0.9\n",
      "step 700, training accuracy 0.82\n",
      "step 800, training accuracy 0.82\n",
      "step 900, training accuracy 0.86\n",
      "step 1000, training accuracy 0.9\n"
     ]
    }
   ],
   "source": [
    "batchSize = 50\n",
    "sess = tf.Session()\n",
    "init = tf.global_variables_initializer()\n",
    "sess.run(init)\n",
    "for i in range(1001):\n",
    "    batch = mnist.train.next_batch(batchSize)\n",
    "    sess.run(train_step, feed_dict={x:batch[0],true_y:batch[1], keep_prob:0.5})\n",
    "    if i % 100 == 0 and i != 0:\n",
    "        trainAccuracy = sess.run(accuracy, feed_dict={x:batch[0],true_y:batch[1], keep_prob:1.0})\n",
    "        print(\"step %d, training accuracy %g\"%(i, trainAccuracy))"
   ]
  },
  {
   "cell_type": "markdown",
   "metadata": {},
   "source": [
    "# Testing Accuracy"
   ]
  },
  {
   "cell_type": "code",
   "execution_count": 51,
   "metadata": {},
   "outputs": [
    {
     "name": "stdout",
     "output_type": "stream",
     "text": [
      "test accuracy 0.8981\n"
     ]
    }
   ],
   "source": [
    "testAccuracy = sess.run(accuracy, feed_dict={x:mnist.test.images,true_y:mnist.test.labels, keep_prob:1.0})\n",
    "print(\"test accuracy %g\"%(testAccuracy))"
   ]
  },
  {
   "cell_type": "markdown",
   "metadata": {},
   "source": [
    "# Get activation values and plotting¶"
   ]
  },
  {
   "cell_type": "code",
   "execution_count": 52,
   "metadata": {},
   "outputs": [],
   "source": [
    "def getActivations(layer,stimuli):\n",
    "    units = sess.run(layer,feed_dict={x:np.reshape(stimuli,[1,784],order='F'),keep_prob:1.0})\n",
    "    plotNNFilter(units)\n",
    "    \n",
    "def plotNNFilter(units):\n",
    "    filters = units.shape[3]\n",
    "    plt.figure(1, figsize=(20,20))\n",
    "    n_columns = 6\n",
    "    n_rows = math.ceil(filters / n_columns) + 1\n",
    "    for i in range(filters):\n",
    "        plt.subplot(n_rows, n_columns, i+1)\n",
    "        plt.title('Filter ' + str(i))\n",
    "        plt.imshow(units[0,:,:,i], interpolation=\"nearest\", cmap=\"gray\")"
   ]
  },
  {
   "cell_type": "markdown",
   "metadata": {},
   "source": [
    "# Input Image"
   ]
  },
  {
   "cell_type": "code",
   "execution_count": 54,
   "metadata": {},
   "outputs": [
    {
     "data": {
      "text/plain": [
       "<matplotlib.image.AxesImage at 0x1f800e4a488>"
      ]
     },
     "execution_count": 54,
     "metadata": {},
     "output_type": "execute_result"
    },
    {
     "data": {
      "image/png": "[encoded data removed]",
      "text/plain": [
       "<Figure size 432x288 with 1 Axes>"
      ]
     },
     "metadata": {
      "needs_background": "light"
     },
     "output_type": "display_data"
    }
   ],
   "source": [
    "imageToUse = mnist.test.images[0]\n",
    "plt.imshow(np.reshape(imageToUse,[28,28]), interpolation=\"nearest\", cmap=\"gray\")"
   ]
  },
  {
   "cell_type": "markdown",
   "metadata": {},
   "source": [
    "# Activation in Layer1"
   ]
  },
  {
   "cell_type": "code",
   "execution_count": 56,
   "metadata": {},
   "outputs": [
    {
     "data": {
      "image/png": "[encoded data removed]",
      "text/plain": [
       "<Figure size 1440x1440 with 5 Axes>"
      ]
     },
     "metadata": {
      "needs_background": "light"
     },
     "output_type": "display_data"
    }
   ],
   "source": [
    "getActivations(hidden_1,imageToUse)"
   ]
  },
  {
   "cell_type": "markdown",
   "metadata": {},
   "source": [
    "# Activation Layer2"
   ]
  },
  {
   "cell_type": "code",
   "execution_count": 57,
   "metadata": {},
   "outputs": [
    {
     "data": {
      "image/png": "[encoded data removed]",
      "text/plain": [
       "<Figure size 1440x1440 with 5 Axes>"
      ]
     },
     "metadata": {
      "needs_background": "light"
     },
     "output_type": "display_data"
    }
   ],
   "source": [
    "getActivations(hidden_2,imageToUse)"
   ]
  },
  {
   "cell_type": "markdown",
   "metadata": {},
   "source": [
    "# Activation Layer3"
   ]
  },
  {
   "cell_type": "code",
   "execution_count": 59,
   "metadata": {},
   "outputs": [
    {
     "data": {
      "image/png": "[encoded data removed]",
      "text/plain": [
       "<Figure size 1440x1440 with 20 Axes>"
      ]
     },
     "metadata": {
      "needs_background": "light"
     },
     "output_type": "display_data"
    }
   ],
   "source": [
    "getActivations(hidden_3,imageToUse)"
   ]
  },
  {
   "cell_type": "markdown",
   "metadata": {},
   "source": [
    "# Design Choices in Convolutional Neural Networks¶"
   ]
  },
  {
   "cell_type": "code",
   "execution_count": 61,
   "metadata": {},
   "outputs": [
    {
     "name": "stdout",
     "output_type": "stream",
     "text": [
      "Model: \"sequential_1\"\n",
      "_________________________________________________________________\n",
      "Layer (type)                 Output Shape              Param #   \n",
      "=================================================================\n",
      "conv2d_1 (Conv2D)            (None, 26, 26, 8)         80        \n",
      "_________________________________________________________________\n",
      "conv2d_2 (Conv2D)            (None, 24, 24, 16)        1168      \n",
      "_________________________________________________________________\n",
      "flatten_1 (Flatten)          (None, 9216)              0         \n",
      "_________________________________________________________________\n",
      "dense_1 (Dense)              (None, 32)                294944    \n",
      "_________________________________________________________________\n",
      "dense_2 (Dense)              (None, 10)                330       \n",
      "=================================================================\n",
      "Total params: 296,522\n",
      "Trainable params: 296,522\n",
      "Non-trainable params: 0\n",
      "_________________________________________________________________\n",
      "Train on 60000 samples, validate on 10000 samples\n",
      "Epoch 1/1\n",
      "60000/60000 [==============================] - 32s 529us/step - loss: 0.2700 - accuracy: 0.9190 - val_loss: 0.0823 - val_accuracy: 0.9749\n",
      "Time Taken to run the model: 32.48518779999995 seconds\n"
     ]
    }
   ],
   "source": [
    "K.clear_session()\n",
    "start = timeit.default_timer()   \n",
    "model = Sequential()\n",
    "model.add(Conv2D(8, kernel_size=(3, 3), activation='relu', input_shape=input_shape))\n",
    "model.add(Conv2D(16, (3, 3), activation='relu'))\n",
    "model.add(Flatten())\n",
    "model.add(Dense(32, activation='relu'))\n",
    "model.add(Dense(num_classes, activation='softmax'))\n",
    "model.summary()\n",
    "model.compile(loss=keras.losses.categorical_crossentropy, optimizer=keras.optimizers.Adadelta(), metrics=['accuracy'])\n",
    "model.fit(x_train, y_train, batch_size=batch_size, epochs=epochs, verbose=1, validation_data=(x_test, y_test))\n",
    "end = timeit.default_timer()\n",
    "print(\"Time Taken to run the model:\",end - start, \"seconds\")  "
   ]
  },
  {
   "cell_type": "markdown",
   "metadata": {},
   "source": [
    "# Striding"
   ]
  },
  {
   "cell_type": "code",
   "execution_count": 62,
   "metadata": {},
   "outputs": [
    {
     "name": "stdout",
     "output_type": "stream",
     "text": [
      "Model: \"sequential_2\"\n",
      "_________________________________________________________________\n",
      "Layer (type)                 Output Shape              Param #   \n",
      "=================================================================\n",
      "conv2d_3 (Conv2D)            (None, 11, 11, 8)         400       \n",
      "_________________________________________________________________\n",
      "conv2d_4 (Conv2D)            (None, 3, 3, 16)          6288      \n",
      "_________________________________________________________________\n",
      "flatten_2 (Flatten)          (None, 144)               0         \n",
      "_________________________________________________________________\n",
      "dense_3 (Dense)              (None, 32)                4640      \n",
      "_________________________________________________________________\n",
      "dense_4 (Dense)              (None, 10)                330       \n",
      "=================================================================\n",
      "Total params: 11,658\n",
      "Trainable params: 11,658\n",
      "Non-trainable params: 0\n",
      "_________________________________________________________________\n",
      "Train on 60000 samples, validate on 10000 samples\n",
      "Epoch 1/1\n",
      "60000/60000 [==============================] - 6s 105us/step - loss: 0.3857 - accuracy: 0.8804 - val_loss: 0.1525 - val_accuracy: 0.9535\n",
      "Time Taken to run the model: 7.075756199999887 seconds\n"
     ]
    }
   ],
   "source": [
    "start = timeit.default_timer()   \n",
    "model = Sequential()\n",
    "model.add(Conv2D(8, kernel_size=(7, 7), strides=2, activation='relu', input_shape=input_shape))\n",
    "model.add(Conv2D(16, (7, 7), strides=2, activation='relu'))\n",
    "model.add(Flatten())\n",
    "model.add(Dense(32, activation='relu'))\n",
    "model.add(Dense(num_classes, activation='softmax'))\n",
    "model.summary()\n",
    "model.compile(loss=keras.losses.categorical_crossentropy, optimizer=keras.optimizers.Adadelta(), metrics=['accuracy'])\n",
    "model.fit(x_train, y_train, batch_size=batch_size, epochs=epochs, verbose=1, validation_data=(x_test, y_test))\n",
    "end = timeit.default_timer()\n",
    "print(\"Time Taken to run the model:\",end - start, \"seconds\")  "
   ]
  },
  {
   "cell_type": "markdown",
   "metadata": {},
   "source": [
    "# Padding"
   ]
  },
  {
   "cell_type": "code",
   "execution_count": 63,
   "metadata": {},
   "outputs": [
    {
     "name": "stdout",
     "output_type": "stream",
     "text": [
      "Model: \"sequential_3\"\n",
      "_________________________________________________________________\n",
      "Layer (type)                 Output Shape              Param #   \n",
      "=================================================================\n",
      "conv2d_5 (Conv2D)            (None, 28, 28, 8)         400       \n",
      "_________________________________________________________________\n",
      "conv2d_6 (Conv2D)            (None, 28, 28, 16)        6288      \n",
      "_________________________________________________________________\n",
      "flatten_3 (Flatten)          (None, 12544)             0         \n",
      "_________________________________________________________________\n",
      "dense_5 (Dense)              (None, 32)                401440    \n",
      "_________________________________________________________________\n",
      "dense_6 (Dense)              (None, 10)                330       \n",
      "=================================================================\n",
      "Total params: 408,458\n",
      "Trainable params: 408,458\n",
      "Non-trainable params: 0\n",
      "_________________________________________________________________\n",
      "Train on 60000 samples, validate on 10000 samples\n",
      "Epoch 1/1\n",
      "60000/60000 [==============================] - 122s 2ms/step - loss: 0.2257 - accuracy: 0.9308 - val_loss: 0.0739 - val_accuracy: 0.9772\n",
      "Time Taken to run the model: 123.23405869999988 seconds\n"
     ]
    }
   ],
   "source": [
    "start = timeit.default_timer()   \n",
    "model = Sequential()\n",
    "model.add(Conv2D(8, kernel_size=(7, 7), strides=1, padding='same', activation='relu', input_shape=input_shape))\n",
    "model.add(Conv2D(16, (7, 7), strides=1, padding='same', activation='relu'))\n",
    "model.add(Flatten())\n",
    "model.add(Dense(32, activation='relu'))\n",
    "model.add(Dense(num_classes, activation='softmax'))\n",
    "model.summary()\n",
    "model.compile(loss=keras.losses.categorical_crossentropy, optimizer=keras.optimizers.Adadelta(), metrics=['accuracy'])\n",
    "model.fit(x_train, y_train, batch_size=batch_size, epochs=epochs, verbose=1, validation_data=(x_test, y_test))\n",
    "end = timeit.default_timer()\n",
    "print(\"Time Taken to run the model:\",end - start, \"seconds\")  "
   ]
  },
  {
   "cell_type": "markdown",
   "metadata": {},
   "source": [
    "# Pooling"
   ]
  },
  {
   "cell_type": "code",
   "execution_count": 65,
   "metadata": {},
   "outputs": [
    {
     "name": "stdout",
     "output_type": "stream",
     "text": [
      "Model: \"sequential_5\"\n",
      "_________________________________________________________________\n",
      "Layer (type)                 Output Shape              Param #   \n",
      "=================================================================\n",
      "conv2d_9 (Conv2D)            (None, 26, 26, 8)         80        \n",
      "_________________________________________________________________\n",
      "max_pooling2d_3 (MaxPooling2 (None, 13, 13, 8)         0         \n",
      "_________________________________________________________________\n",
      "conv2d_10 (Conv2D)           (None, 11, 11, 16)        1168      \n",
      "_________________________________________________________________\n",
      "max_pooling2d_4 (MaxPooling2 (None, 5, 5, 16)          0         \n",
      "_________________________________________________________________\n",
      "flatten_5 (Flatten)          (None, 400)               0         \n",
      "_________________________________________________________________\n",
      "dense_9 (Dense)              (None, 32)                12832     \n",
      "_________________________________________________________________\n",
      "dense_10 (Dense)             (None, 10)                330       \n",
      "=================================================================\n",
      "Total params: 14,410\n",
      "Trainable params: 14,410\n",
      "Non-trainable params: 0\n",
      "_________________________________________________________________\n",
      "Train on 60000 samples, validate on 10000 samples\n",
      "Epoch 1/1\n",
      "60000/60000 [==============================] - 12s 192us/step - loss: 0.3260 - accuracy: 0.9021 - val_loss: 0.0939 - val_accuracy: 0.9709\n",
      "Time Taken to run the model: 12.441657899999882 seconds\n"
     ]
    }
   ],
   "source": [
    "start = timeit.default_timer()   \n",
    "model = Sequential()\n",
    "model.add(Conv2D(8, kernel_size=(3, 3), activation='relu', input_shape=input_shape))\n",
    "model.add(MaxPooling2D(pool_size=(2, 2)))\n",
    "model.add(Conv2D(16, (3, 3), activation='relu'))\n",
    "model.add(MaxPooling2D(pool_size=(2, 2)))\n",
    "model.add(Flatten())\n",
    "model.add(Dense(32, activation='relu'))\n",
    "model.add(Dense(num_classes, activation='softmax'))\n",
    "model.summary()\n",
    "model.compile(loss=keras.losses.categorical_crossentropy, optimizer=keras.optimizers.Adadelta(), metrics=['accuracy'])\n",
    "model.fit(x_train, y_train, batch_size=batch_size, epochs=epochs, verbose=1, validation_data=(x_test, y_test))\n",
    "end = timeit.default_timer()\n",
    "print(\"Time Taken to run the model:\",end - start, \"seconds\")  "
   ]
  },
  {
   "cell_type": "code",
   "execution_count": null,
   "metadata": {},
   "outputs": [],
   "source": []
  }
 ],
 "metadata": {
  "kernelspec": {
   "display_name": "Python 3",
   "language": "python",
   "name": "python3"
  },
  "language_info": {
   "codemirror_mode": {
    "name": "ipython",
    "version": 3
   },
   "file_extension": ".py",
   "mimetype": "text/x-python",
   "name": "python",
   "nbconvert_exporter": "python",
   "pygments_lexer": "ipython3",
   "version": "3.7.4"
  }
 },
 "nbformat": 4,
 "nbformat_minor": 2
}
